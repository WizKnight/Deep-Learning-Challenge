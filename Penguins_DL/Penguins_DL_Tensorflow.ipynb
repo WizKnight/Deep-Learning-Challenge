{
  "nbformat": 4,
  "nbformat_minor": 0,
  "metadata": {
    "colab": {
      "provenance": []
    },
    "kernelspec": {
      "name": "python3",
      "display_name": "Python 3"
    },
    "language_info": {
      "name": "python"
    }
  },
  "cells": [
    {
      "cell_type": "markdown",
      "source": [
        "* A massive growth in the availability of data coupled with advances in the computing technology required to process it has led to the emergence of new machine learning techniques that mimic the way the brain processes information in a structure called an artificial neural network (ANN).\n",
        "\n",
        "* TensorFlow is a framework for creating machine learning models, including deep neural networks (DNNs).\n",
        "\n",
        "* In this example, we'll use Tensorflow to create a simple neural network that classifies penguins into species based on the length and depth of their culmen (bill), their flipper length, and their body mass.\n"
      ],
      "metadata": {
        "id": "jhn_Fo8ijSoW"
      }
    },
    {
      "cell_type": "code",
      "source": [
        "import pandas as pd\n",
        "import numpy as np\n",
        "import matplotlib.pyplot as plt\n",
        "%matplotlib inline\n",
        "\n",
        "import warnings\n",
        "warnings.filterwarnings('ignore')"
      ],
      "metadata": {
        "id": "DOfEQ7sei0oF"
      },
      "execution_count": 1,
      "outputs": []
    },
    {
      "cell_type": "code",
      "source": [
        "# load the training dataset (excluding rows with null values)\n",
        "penguins = pd.read_csv('penguins_data.csv').dropna()\n",
        "\n",
        "# Deep Learning models work best when features are on similar scales\n",
        "# In a real solution, we'd implement some custom normalization for each feature, but to keep things simple\n",
        "# we'll just rescale the FlipperLength and BodyMass so they're on a similar scale to the bill measurements\n",
        "penguins['FlipperLength'] = penguins['FlipperLength']/10\n",
        "penguins['BodyMass'] = penguins['BodyMass']/100\n",
        "\n",
        "# The dataset is too small to be useful for deep learning\n",
        "# So we'll oversample it to increase its size\n",
        "for i in range(1,3):\n",
        "    penguins = penguins.append(penguins)"
      ],
      "metadata": {
        "id": "o9QzoaKzi0ab"
      },
      "execution_count": 2,
      "outputs": []
    },
    {
      "cell_type": "code",
      "source": [
        "# Display a random sample of 10 observations\n",
        "sample = penguins.sample(10)\n",
        "sample"
      ],
      "metadata": {
        "colab": {
          "base_uri": "https://localhost:8080/",
          "height": 363
        },
        "id": "ktU54_cri0Lq",
        "outputId": "8cbe8cb4-4953-4e69-939e-c61eb954f364"
      },
      "execution_count": 3,
      "outputs": [
        {
          "output_type": "execute_result",
          "data": {
            "text/plain": [
              "     CulmenLength  CulmenDepth  FlipperLength  BodyMass  Species\n",
              "217          49.8         16.8           23.0     57.00        1\n",
              "98           33.1         16.1           17.8     29.00        0\n",
              "24           38.8         17.2           18.0     38.00        0\n",
              "216          45.8         14.2           21.9     47.00        1\n",
              "62           37.6         17.0           18.5     36.00        0\n",
              "162          40.9         13.7           21.4     46.50        1\n",
              "232          49.1         14.5           21.2     46.25        1\n",
              "256          47.3         13.8           21.6     47.25        1\n",
              "285          51.3         19.9           19.8     37.00        2\n",
              "290          45.9         17.1           19.0     35.75        2"
            ],
            "text/html": [
              "\n",
              "\n",
              "  <div id=\"df-3c6829b6-f557-4c51-989a-9229f8a5a153\">\n",
              "    <div class=\"colab-df-container\">\n",
              "      <div>\n",
              "<style scoped>\n",
              "    .dataframe tbody tr th:only-of-type {\n",
              "        vertical-align: middle;\n",
              "    }\n",
              "\n",
              "    .dataframe tbody tr th {\n",
              "        vertical-align: top;\n",
              "    }\n",
              "\n",
              "    .dataframe thead th {\n",
              "        text-align: right;\n",
              "    }\n",
              "</style>\n",
              "<table border=\"1\" class=\"dataframe\">\n",
              "  <thead>\n",
              "    <tr style=\"text-align: right;\">\n",
              "      <th></th>\n",
              "      <th>CulmenLength</th>\n",
              "      <th>CulmenDepth</th>\n",
              "      <th>FlipperLength</th>\n",
              "      <th>BodyMass</th>\n",
              "      <th>Species</th>\n",
              "    </tr>\n",
              "  </thead>\n",
              "  <tbody>\n",
              "    <tr>\n",
              "      <th>217</th>\n",
              "      <td>49.8</td>\n",
              "      <td>16.8</td>\n",
              "      <td>23.0</td>\n",
              "      <td>57.00</td>\n",
              "      <td>1</td>\n",
              "    </tr>\n",
              "    <tr>\n",
              "      <th>98</th>\n",
              "      <td>33.1</td>\n",
              "      <td>16.1</td>\n",
              "      <td>17.8</td>\n",
              "      <td>29.00</td>\n",
              "      <td>0</td>\n",
              "    </tr>\n",
              "    <tr>\n",
              "      <th>24</th>\n",
              "      <td>38.8</td>\n",
              "      <td>17.2</td>\n",
              "      <td>18.0</td>\n",
              "      <td>38.00</td>\n",
              "      <td>0</td>\n",
              "    </tr>\n",
              "    <tr>\n",
              "      <th>216</th>\n",
              "      <td>45.8</td>\n",
              "      <td>14.2</td>\n",
              "      <td>21.9</td>\n",
              "      <td>47.00</td>\n",
              "      <td>1</td>\n",
              "    </tr>\n",
              "    <tr>\n",
              "      <th>62</th>\n",
              "      <td>37.6</td>\n",
              "      <td>17.0</td>\n",
              "      <td>18.5</td>\n",
              "      <td>36.00</td>\n",
              "      <td>0</td>\n",
              "    </tr>\n",
              "    <tr>\n",
              "      <th>162</th>\n",
              "      <td>40.9</td>\n",
              "      <td>13.7</td>\n",
              "      <td>21.4</td>\n",
              "      <td>46.50</td>\n",
              "      <td>1</td>\n",
              "    </tr>\n",
              "    <tr>\n",
              "      <th>232</th>\n",
              "      <td>49.1</td>\n",
              "      <td>14.5</td>\n",
              "      <td>21.2</td>\n",
              "      <td>46.25</td>\n",
              "      <td>1</td>\n",
              "    </tr>\n",
              "    <tr>\n",
              "      <th>256</th>\n",
              "      <td>47.3</td>\n",
              "      <td>13.8</td>\n",
              "      <td>21.6</td>\n",
              "      <td>47.25</td>\n",
              "      <td>1</td>\n",
              "    </tr>\n",
              "    <tr>\n",
              "      <th>285</th>\n",
              "      <td>51.3</td>\n",
              "      <td>19.9</td>\n",
              "      <td>19.8</td>\n",
              "      <td>37.00</td>\n",
              "      <td>2</td>\n",
              "    </tr>\n",
              "    <tr>\n",
              "      <th>290</th>\n",
              "      <td>45.9</td>\n",
              "      <td>17.1</td>\n",
              "      <td>19.0</td>\n",
              "      <td>35.75</td>\n",
              "      <td>2</td>\n",
              "    </tr>\n",
              "  </tbody>\n",
              "</table>\n",
              "</div>\n",
              "      <button class=\"colab-df-convert\" onclick=\"convertToInteractive('df-3c6829b6-f557-4c51-989a-9229f8a5a153')\"\n",
              "              title=\"Convert this dataframe to an interactive table.\"\n",
              "              style=\"display:none;\">\n",
              "\n",
              "  <svg xmlns=\"http://www.w3.org/2000/svg\" height=\"24px\"viewBox=\"0 0 24 24\"\n",
              "       width=\"24px\">\n",
              "    <path d=\"M0 0h24v24H0V0z\" fill=\"none\"/>\n",
              "    <path d=\"M18.56 5.44l.94 2.06.94-2.06 2.06-.94-2.06-.94-.94-2.06-.94 2.06-2.06.94zm-11 1L8.5 8.5l.94-2.06 2.06-.94-2.06-.94L8.5 2.5l-.94 2.06-2.06.94zm10 10l.94 2.06.94-2.06 2.06-.94-2.06-.94-.94-2.06-.94 2.06-2.06.94z\"/><path d=\"M17.41 7.96l-1.37-1.37c-.4-.4-.92-.59-1.43-.59-.52 0-1.04.2-1.43.59L10.3 9.45l-7.72 7.72c-.78.78-.78 2.05 0 2.83L4 21.41c.39.39.9.59 1.41.59.51 0 1.02-.2 1.41-.59l7.78-7.78 2.81-2.81c.8-.78.8-2.07 0-2.86zM5.41 20L4 18.59l7.72-7.72 1.47 1.35L5.41 20z\"/>\n",
              "  </svg>\n",
              "      </button>\n",
              "\n",
              "\n",
              "\n",
              "    <div id=\"df-ed28feab-873d-4059-973e-44e1ed84bfee\">\n",
              "      <button class=\"colab-df-quickchart\" onclick=\"quickchart('df-ed28feab-873d-4059-973e-44e1ed84bfee')\"\n",
              "              title=\"Suggest charts.\"\n",
              "              style=\"display:none;\">\n",
              "\n",
              "<svg xmlns=\"http://www.w3.org/2000/svg\" height=\"24px\"viewBox=\"0 0 24 24\"\n",
              "     width=\"24px\">\n",
              "    <g>\n",
              "        <path d=\"M19 3H5c-1.1 0-2 .9-2 2v14c0 1.1.9 2 2 2h14c1.1 0 2-.9 2-2V5c0-1.1-.9-2-2-2zM9 17H7v-7h2v7zm4 0h-2V7h2v10zm4 0h-2v-4h2v4z\"/>\n",
              "    </g>\n",
              "</svg>\n",
              "      </button>\n",
              "    </div>\n",
              "\n",
              "<style>\n",
              "  .colab-df-quickchart {\n",
              "    background-color: #E8F0FE;\n",
              "    border: none;\n",
              "    border-radius: 50%;\n",
              "    cursor: pointer;\n",
              "    display: none;\n",
              "    fill: #1967D2;\n",
              "    height: 32px;\n",
              "    padding: 0 0 0 0;\n",
              "    width: 32px;\n",
              "  }\n",
              "\n",
              "  .colab-df-quickchart:hover {\n",
              "    background-color: #E2EBFA;\n",
              "    box-shadow: 0px 1px 2px rgba(60, 64, 67, 0.3), 0px 1px 3px 1px rgba(60, 64, 67, 0.15);\n",
              "    fill: #174EA6;\n",
              "  }\n",
              "\n",
              "  [theme=dark] .colab-df-quickchart {\n",
              "    background-color: #3B4455;\n",
              "    fill: #D2E3FC;\n",
              "  }\n",
              "\n",
              "  [theme=dark] .colab-df-quickchart:hover {\n",
              "    background-color: #434B5C;\n",
              "    box-shadow: 0px 1px 3px 1px rgba(0, 0, 0, 0.15);\n",
              "    filter: drop-shadow(0px 1px 2px rgba(0, 0, 0, 0.3));\n",
              "    fill: #FFFFFF;\n",
              "  }\n",
              "</style>\n",
              "\n",
              "    <script>\n",
              "      async function quickchart(key) {\n",
              "        const containerElement = document.querySelector('#' + key);\n",
              "        const charts = await google.colab.kernel.invokeFunction(\n",
              "            'suggestCharts', [key], {});\n",
              "      }\n",
              "    </script>\n",
              "\n",
              "      <script>\n",
              "\n",
              "function displayQuickchartButton(domScope) {\n",
              "  let quickchartButtonEl =\n",
              "    domScope.querySelector('#df-ed28feab-873d-4059-973e-44e1ed84bfee button.colab-df-quickchart');\n",
              "  quickchartButtonEl.style.display =\n",
              "    google.colab.kernel.accessAllowed ? 'block' : 'none';\n",
              "}\n",
              "\n",
              "        displayQuickchartButton(document);\n",
              "      </script>\n",
              "      <style>\n",
              "    .colab-df-container {\n",
              "      display:flex;\n",
              "      flex-wrap:wrap;\n",
              "      gap: 12px;\n",
              "    }\n",
              "\n",
              "    .colab-df-convert {\n",
              "      background-color: #E8F0FE;\n",
              "      border: none;\n",
              "      border-radius: 50%;\n",
              "      cursor: pointer;\n",
              "      display: none;\n",
              "      fill: #1967D2;\n",
              "      height: 32px;\n",
              "      padding: 0 0 0 0;\n",
              "      width: 32px;\n",
              "    }\n",
              "\n",
              "    .colab-df-convert:hover {\n",
              "      background-color: #E2EBFA;\n",
              "      box-shadow: 0px 1px 2px rgba(60, 64, 67, 0.3), 0px 1px 3px 1px rgba(60, 64, 67, 0.15);\n",
              "      fill: #174EA6;\n",
              "    }\n",
              "\n",
              "    [theme=dark] .colab-df-convert {\n",
              "      background-color: #3B4455;\n",
              "      fill: #D2E3FC;\n",
              "    }\n",
              "\n",
              "    [theme=dark] .colab-df-convert:hover {\n",
              "      background-color: #434B5C;\n",
              "      box-shadow: 0px 1px 3px 1px rgba(0, 0, 0, 0.15);\n",
              "      filter: drop-shadow(0px 1px 2px rgba(0, 0, 0, 0.3));\n",
              "      fill: #FFFFFF;\n",
              "    }\n",
              "  </style>\n",
              "\n",
              "      <script>\n",
              "        const buttonEl =\n",
              "          document.querySelector('#df-3c6829b6-f557-4c51-989a-9229f8a5a153 button.colab-df-convert');\n",
              "        buttonEl.style.display =\n",
              "          google.colab.kernel.accessAllowed ? 'block' : 'none';\n",
              "\n",
              "        async function convertToInteractive(key) {\n",
              "          const element = document.querySelector('#df-3c6829b6-f557-4c51-989a-9229f8a5a153');\n",
              "          const dataTable =\n",
              "            await google.colab.kernel.invokeFunction('convertToInteractive',\n",
              "                                                     [key], {});\n",
              "          if (!dataTable) return;\n",
              "\n",
              "          const docLinkHtml = 'Like what you see? Visit the ' +\n",
              "            '<a target=\"_blank\" href=https://colab.research.google.com/notebooks/data_table.ipynb>data table notebook</a>'\n",
              "            + ' to learn more about interactive tables.';\n",
              "          element.innerHTML = '';\n",
              "          dataTable['output_type'] = 'display_data';\n",
              "          await google.colab.output.renderOutput(dataTable, element);\n",
              "          const docLink = document.createElement('div');\n",
              "          docLink.innerHTML = docLinkHtml;\n",
              "          element.appendChild(docLink);\n",
              "        }\n",
              "      </script>\n",
              "    </div>\n",
              "  </div>\n"
            ]
          },
          "metadata": {},
          "execution_count": 3
        }
      ]
    },
    {
      "cell_type": "code",
      "execution_count": 4,
      "metadata": {
        "colab": {
          "base_uri": "https://localhost:8080/"
        },
        "id": "iqq5a5_JhkDx",
        "outputId": "05294161-89cd-4875-975d-4b393f0b4b1f"
      },
      "outputs": [
        {
          "output_type": "execute_result",
          "data": {
            "text/plain": [
              "(1368, 5)"
            ]
          },
          "metadata": {},
          "execution_count": 4
        }
      ],
      "source": [
        "penguins.shape"
      ]
    },
    {
      "cell_type": "markdown",
      "source": [
        "* The Species column is the label our model will predict. Each label value represents a class of penguin species, encoded as 0, 1, or 2. The following code shows the actual species to which these class labels corrrespond."
      ],
      "metadata": {
        "id": "CbCK2ixEj8kR"
      }
    },
    {
      "cell_type": "code",
      "source": [
        "penguin_classes = ['Adelle', 'Gentoo', 'Chinstrap']\n",
        "print(sample.columns[0:5].values, 'SpeciesName')\n",
        "\n",
        "for index, row in penguins.sample(10).iterrows():\n",
        "    print('[',row[0], row[1], row[2],row[3], int(row[4]), ']',\n",
        "          penguin_classes[int(row[-1])])"
      ],
      "metadata": {
        "colab": {
          "base_uri": "https://localhost:8080/"
        },
        "id": "TQ6kU6xyjs4X",
        "outputId": "2a2ce38e-5042-45a8-c09b-eff020bd53eb"
      },
      "execution_count": 5,
      "outputs": [
        {
          "output_type": "stream",
          "name": "stdout",
          "text": [
            "['CulmenLength' 'CulmenDepth' 'FlipperLength' 'BodyMass' 'Species'] SpeciesName\n",
            "[ 49.8 16.8 23.0 57.0 1 ] Gentoo\n",
            "[ 34.6 17.2 18.9 32.0 0 ] Adelle\n",
            "[ 50.5 15.9 22.2 55.5 1 ] Gentoo\n",
            "[ 39.6 17.2 19.6 35.5 0 ] Adelle\n",
            "[ 45.2 17.8 19.8 39.5 2 ] Chinstrap\n",
            "[ 41.1 18.6 18.9 33.25 0 ] Adelle\n",
            "[ 37.5 18.5 19.9 44.75 0 ] Adelle\n",
            "[ 48.2 15.6 22.1 51.0 1 ] Gentoo\n",
            "[ 46.8 14.3 21.5 48.5 1 ] Gentoo\n",
            "[ 50.2 18.7 19.8 37.75 2 ] Chinstrap\n"
          ]
        }
      ]
    },
    {
      "cell_type": "markdown",
      "source": [
        "* As it is common in a supervised learning problem, we'll split the dataset into a set of records with which we'll train the model, and a smaller set with which we'll validate the trained model.\n"
      ],
      "metadata": {
        "id": "E6e5GFkOkFLo"
      }
    },
    {
      "cell_type": "code",
      "source": [
        "from sklearn.model_selection import train_test_split\n",
        "\n",
        "features = ['CulmenLength','CulmenDepth','FlipperLength','BodyMass']\n",
        "label = 'Species'\n",
        "\n",
        "# Split the data\n",
        "X_train, X_test, y_train, y_test = train_test_split(penguins[features].values,\n",
        "                                                    penguins[label].values,\n",
        "                                                    test_size=0.30,\n",
        "                                                    random_state=0)\n",
        "\n",
        "print (f'Training Set: {len(X_train)}\\nTest Set: {len(X_test)}')\n",
        "print(\"Sample of features and labels:\")\n",
        "\n",
        "# Take a look at the first 25 training features and corresponding labels\n",
        "for n in range(0,24):\n",
        "    print(X_train[n], y_train[n], '(' + penguin_classes[y_train[n]] + ')')"
      ],
      "metadata": {
        "colab": {
          "base_uri": "https://localhost:8080/"
        },
        "id": "zGStOTAYjs05",
        "outputId": "cbffee3a-c4ec-48e5-b464-a663220b97f5"
      },
      "execution_count": 6,
      "outputs": [
        {
          "output_type": "stream",
          "name": "stdout",
          "text": [
            "Training Set: 957\n",
            "Test Set: 411\n",
            "Sample of features and labels:\n",
            "[51.1 16.5 22.5 52.5] 1 (Gentoo)\n",
            "[50.7 19.7 20.3 40.5] 2 (Chinstrap)\n",
            "[49.5 16.2 22.9 58. ] 1 (Gentoo)\n",
            "[39.3 20.6 19.  36.5] 0 (Adelle)\n",
            "[42.5 20.7 19.7 45. ] 0 (Adelle)\n",
            "[50.  15.3 22.  55.5] 1 (Gentoo)\n",
            "[50.2  18.7  19.8  37.75] 2 (Chinstrap)\n",
            "[50.7 19.7 20.3 40.5] 2 (Chinstrap)\n",
            "[49.1  14.5  21.2  46.25] 1 (Gentoo)\n",
            "[43.2 16.6 18.7 29. ] 2 (Chinstrap)\n",
            "[38.8  17.6  19.1  32.75] 0 (Adelle)\n",
            "[37.8 17.1 18.6 33. ] 0 (Adelle)\n",
            "[45.8 14.2 21.9 47. ] 1 (Gentoo)\n",
            "[43.8 13.9 20.8 43. ] 1 (Gentoo)\n",
            "[36.  17.1 18.7 37. ] 0 (Adelle)\n",
            "[43.3 13.4 20.9 44. ] 1 (Gentoo)\n",
            "[36.  18.5 18.6 31. ] 0 (Adelle)\n",
            "[41.1  19.   18.2  34.25] 0 (Adelle)\n",
            "[33.1 16.1 17.8 29. ] 0 (Adelle)\n",
            "[40.9 13.7 21.4 46.5] 1 (Gentoo)\n",
            "[45.2 17.8 19.8 39.5] 2 (Chinstrap)\n",
            "[48.4 14.6 21.3 58.5] 1 (Gentoo)\n",
            "[43.6 13.9 21.7 49. ] 1 (Gentoo)\n",
            "[38.5  17.9  19.   33.25] 0 (Adelle)\n"
          ]
        }
      ]
    },
    {
      "cell_type": "markdown",
      "source": [
        "## Installing and Importing Tensorflow Libraries"
      ],
      "metadata": {
        "id": "ETREWJrwkQEW"
      }
    },
    {
      "cell_type": "markdown",
      "source": [
        "`**Note:** Keras is an abstraction layer over the base TensorFlow API. In most common machine learning scenarios, you can use Keras to simplify your code.`"
      ],
      "metadata": {
        "id": "sZ7F0e3lkU0x"
      }
    },
    {
      "cell_type": "code",
      "source": [
        "import tensorflow\n",
        "from tensorflow import keras\n",
        "from tensorflow.keras import models\n",
        "from tensorflow.keras.models import Sequential\n",
        "from tensorflow.keras.layers import Dense\n",
        "from tensorflow.keras import utils\n",
        "from tensorflow.keras import optimizers\n",
        "\n",
        "# Set random seed for reproducability\n",
        "tensorflow.random.set_seed(0)\n",
        "\n",
        "print(\"Libraries imported.\")\n",
        "print('Keras version:',keras.__version__)\n",
        "print('TensorFlow version:',tensorflow.__version__)"
      ],
      "metadata": {
        "colab": {
          "base_uri": "https://localhost:8080/"
        },
        "id": "jFh34XdLjsxy",
        "outputId": "d52bbc2f-c993-4c71-a1f2-560f27c08bbc"
      },
      "execution_count": 7,
      "outputs": [
        {
          "output_type": "stream",
          "name": "stdout",
          "text": [
            "Libraries imported.\n",
            "Keras version: 2.12.0\n",
            "TensorFlow version: 2.12.0\n"
          ]
        }
      ]
    },
    {
      "cell_type": "markdown",
      "source": [
        "## Prepare the data for Tensorflow"
      ],
      "metadata": {
        "id": "Y-N_iiEVrXu6"
      }
    },
    {
      "cell_type": "code",
      "source": [
        "# Set the data types for float features\n",
        "\n",
        "X_train = X_train.astype('float32')\n",
        "X_test = X_test.astype('float32')\n",
        "\n",
        "# Set data types for categorical data\n",
        "y_train = utils.to_categorical(y_train)\n",
        "y_test = utils.to_categorical(y_test)\n",
        "print('Ready...')"
      ],
      "metadata": {
        "id": "GffXTDoHjsuM",
        "colab": {
          "base_uri": "https://localhost:8080/"
        },
        "outputId": "b4995b1f-5126-4e07-b22d-fb570d5501cc"
      },
      "execution_count": 8,
      "outputs": [
        {
          "output_type": "stream",
          "name": "stdout",
          "text": [
            "Ready...\n"
          ]
        }
      ]
    },
    {
      "cell_type": "markdown",
      "source": [
        "# Define a Neural Network"
      ],
      "metadata": {
        "id": "Ae1ibFJWsFMS"
      }
    },
    {
      "cell_type": "code",
      "source": [
        "# Define a classifier network\n",
        "hl = 10 # Number of hidden layer nodes\n",
        "\n",
        "model = Sequential()\n",
        "model.add(Dense(hl, input_dim=len(features), activation='relu'))\n",
        "model.add(Dense(hl, input_dim=hl, activation='relu'))\n",
        "model.add(Dense(len(penguin_classes),input_dim=hl, activation='softmax'))\n",
        "\n",
        "print(model.summary())"
      ],
      "metadata": {
        "id": "K7ckF55sjsoc",
        "colab": {
          "base_uri": "https://localhost:8080/"
        },
        "outputId": "e1cf804d-e02c-4235-8793-e609c5e6d600"
      },
      "execution_count": 9,
      "outputs": [
        {
          "output_type": "stream",
          "name": "stdout",
          "text": [
            "Model: \"sequential\"\n",
            "_________________________________________________________________\n",
            " Layer (type)                Output Shape              Param #   \n",
            "=================================================================\n",
            " dense (Dense)               (None, 10)                50        \n",
            "                                                                 \n",
            " dense_1 (Dense)             (None, 10)                110       \n",
            "                                                                 \n",
            " dense_2 (Dense)             (None, 3)                 33        \n",
            "                                                                 \n",
            "=================================================================\n",
            "Total params: 193\n",
            "Trainable params: 193\n",
            "Non-trainable params: 0\n",
            "_________________________________________________________________\n",
            "None\n"
          ]
        }
      ]
    },
    {
      "cell_type": "markdown",
      "source": [
        "# Train the model"
      ],
      "metadata": {
        "id": "SYavADJ-tRre"
      }
    },
    {
      "cell_type": "code",
      "source": [
        "# Hyper parameters for optimizer\n",
        "\n",
        "learning_rate = 0.001\n",
        "opt = optimizers.Adam(lr=learning_rate)\n",
        "\n",
        "model.compile(loss='categorical_crossentropy',\n",
        "              optimizer = opt,\n",
        "              metrics=['accuracy'])\n",
        "\n",
        "# Train the model over 50 epochs using 10 observation in batches and using the test holdout dataset for validation\n",
        "\n",
        "num_epochs = 50\n",
        "history = model.fit(X_train, y_train, epochs=num_epochs, batch_size=10, validation_data=(X_test, y_test))\n"
      ],
      "metadata": {
        "id": "YrorBp8SjshR",
        "colab": {
          "base_uri": "https://localhost:8080/"
        },
        "outputId": "7d014ce9-9df1-4226-e26c-452fd261e72e"
      },
      "execution_count": 10,
      "outputs": [
        {
          "output_type": "stream",
          "name": "stderr",
          "text": [
            "WARNING:absl:`lr` is deprecated in Keras optimizer, please use `learning_rate` or use the legacy optimizer, e.g.,tf.keras.optimizers.legacy.Adam.\n"
          ]
        },
        {
          "output_type": "stream",
          "name": "stdout",
          "text": [
            "Epoch 1/50\n",
            "96/96 [==============================] - 2s 6ms/step - loss: 5.3569 - accuracy: 0.4493 - val_loss: 3.2363 - val_accuracy: 0.4234\n",
            "Epoch 2/50\n",
            "96/96 [==============================] - 0s 3ms/step - loss: 1.5352 - accuracy: 0.3302 - val_loss: 1.0149 - val_accuracy: 0.1582\n",
            "Epoch 3/50\n",
            "96/96 [==============================] - 0s 3ms/step - loss: 0.9866 - accuracy: 0.2717 - val_loss: 0.9751 - val_accuracy: 0.3747\n",
            "Epoch 4/50\n",
            "96/96 [==============================] - 0s 3ms/step - loss: 0.9199 - accuracy: 0.4504 - val_loss: 0.8950 - val_accuracy: 0.4623\n",
            "Epoch 5/50\n",
            "96/96 [==============================] - 0s 3ms/step - loss: 0.8478 - accuracy: 0.6416 - val_loss: 0.8315 - val_accuracy: 0.7713\n",
            "Epoch 6/50\n",
            "96/96 [==============================] - 0s 3ms/step - loss: 0.7907 - accuracy: 0.6959 - val_loss: 0.7659 - val_accuracy: 0.6691\n",
            "Epoch 7/50\n",
            "96/96 [==============================] - 0s 3ms/step - loss: 0.7397 - accuracy: 0.7241 - val_loss: 0.7108 - val_accuracy: 0.7543\n",
            "Epoch 8/50\n",
            "96/96 [==============================] - 0s 3ms/step - loss: 0.6894 - accuracy: 0.7482 - val_loss: 0.6741 - val_accuracy: 0.7591\n",
            "Epoch 9/50\n",
            "96/96 [==============================] - 0s 3ms/step - loss: 0.6564 - accuracy: 0.7555 - val_loss: 0.6414 - val_accuracy: 0.7689\n",
            "Epoch 10/50\n",
            "96/96 [==============================] - 0s 3ms/step - loss: 0.6251 - accuracy: 0.7555 - val_loss: 0.6141 - val_accuracy: 0.7835\n",
            "Epoch 11/50\n",
            "96/96 [==============================] - 0s 3ms/step - loss: 0.6179 - accuracy: 0.7377 - val_loss: 0.5957 - val_accuracy: 0.7689\n",
            "Epoch 12/50\n",
            "96/96 [==============================] - 0s 3ms/step - loss: 0.5902 - accuracy: 0.7544 - val_loss: 0.5876 - val_accuracy: 0.7470\n",
            "Epoch 13/50\n",
            "96/96 [==============================] - 0s 3ms/step - loss: 0.5591 - accuracy: 0.7628 - val_loss: 0.5670 - val_accuracy: 0.7664\n",
            "Epoch 14/50\n",
            "96/96 [==============================] - 0s 3ms/step - loss: 0.5471 - accuracy: 0.7806 - val_loss: 0.5471 - val_accuracy: 0.7859\n",
            "Epoch 15/50\n",
            "96/96 [==============================] - 0s 3ms/step - loss: 0.5347 - accuracy: 0.7743 - val_loss: 0.5511 - val_accuracy: 0.7835\n",
            "Epoch 16/50\n",
            "96/96 [==============================] - 0s 3ms/step - loss: 0.5237 - accuracy: 0.7659 - val_loss: 0.5281 - val_accuracy: 0.7762\n",
            "Epoch 17/50\n",
            "96/96 [==============================] - 0s 4ms/step - loss: 0.5038 - accuracy: 0.7691 - val_loss: 0.5058 - val_accuracy: 0.7908\n",
            "Epoch 18/50\n",
            "96/96 [==============================] - 0s 3ms/step - loss: 0.5037 - accuracy: 0.7743 - val_loss: 0.5091 - val_accuracy: 0.7956\n",
            "Epoch 19/50\n",
            "96/96 [==============================] - 0s 3ms/step - loss: 0.4881 - accuracy: 0.7847 - val_loss: 0.4952 - val_accuracy: 0.7932\n",
            "Epoch 20/50\n",
            "96/96 [==============================] - 0s 3ms/step - loss: 0.4762 - accuracy: 0.7712 - val_loss: 0.5007 - val_accuracy: 0.8005\n",
            "Epoch 21/50\n",
            "96/96 [==============================] - 0s 3ms/step - loss: 0.4698 - accuracy: 0.7931 - val_loss: 0.4689 - val_accuracy: 0.7981\n",
            "Epoch 22/50\n",
            "96/96 [==============================] - 0s 3ms/step - loss: 0.4657 - accuracy: 0.7847 - val_loss: 0.4943 - val_accuracy: 0.7932\n",
            "Epoch 23/50\n",
            "96/96 [==============================] - 0s 3ms/step - loss: 0.4536 - accuracy: 0.8004 - val_loss: 0.4732 - val_accuracy: 0.7883\n",
            "Epoch 24/50\n",
            "96/96 [==============================] - 0s 3ms/step - loss: 0.4494 - accuracy: 0.7879 - val_loss: 0.4507 - val_accuracy: 0.8078\n",
            "Epoch 25/50\n",
            "96/96 [==============================] - 0s 3ms/step - loss: 0.4421 - accuracy: 0.8025 - val_loss: 0.4585 - val_accuracy: 0.8005\n",
            "Epoch 26/50\n",
            "96/96 [==============================] - 0s 3ms/step - loss: 0.4330 - accuracy: 0.8056 - val_loss: 0.4452 - val_accuracy: 0.7932\n",
            "Epoch 27/50\n",
            "96/96 [==============================] - 0s 3ms/step - loss: 0.4284 - accuracy: 0.8109 - val_loss: 0.4344 - val_accuracy: 0.8102\n",
            "Epoch 28/50\n",
            "96/96 [==============================] - 0s 2ms/step - loss: 0.4279 - accuracy: 0.8046 - val_loss: 0.4249 - val_accuracy: 0.8200\n",
            "Epoch 29/50\n",
            "96/96 [==============================] - 0s 3ms/step - loss: 0.4078 - accuracy: 0.8161 - val_loss: 0.4256 - val_accuracy: 0.7981\n",
            "Epoch 30/50\n",
            "96/96 [==============================] - 0s 5ms/step - loss: 0.4107 - accuracy: 0.8109 - val_loss: 0.4440 - val_accuracy: 0.7932\n",
            "Epoch 31/50\n",
            "96/96 [==============================] - 0s 4ms/step - loss: 0.3989 - accuracy: 0.8130 - val_loss: 0.4067 - val_accuracy: 0.8224\n",
            "Epoch 32/50\n",
            "96/96 [==============================] - 0s 5ms/step - loss: 0.3948 - accuracy: 0.8213 - val_loss: 0.3976 - val_accuracy: 0.8345\n",
            "Epoch 33/50\n",
            "96/96 [==============================] - 0s 4ms/step - loss: 0.3926 - accuracy: 0.8234 - val_loss: 0.4254 - val_accuracy: 0.8005\n",
            "Epoch 34/50\n",
            "96/96 [==============================] - 0s 5ms/step - loss: 0.3849 - accuracy: 0.8307 - val_loss: 0.4007 - val_accuracy: 0.8029\n",
            "Epoch 35/50\n",
            "96/96 [==============================] - 0s 5ms/step - loss: 0.3758 - accuracy: 0.8161 - val_loss: 0.3803 - val_accuracy: 0.8540\n",
            "Epoch 36/50\n",
            "96/96 [==============================] - 0s 3ms/step - loss: 0.3718 - accuracy: 0.8297 - val_loss: 0.3828 - val_accuracy: 0.8078\n",
            "Epoch 37/50\n",
            "96/96 [==============================] - 0s 3ms/step - loss: 0.3648 - accuracy: 0.8391 - val_loss: 0.4062 - val_accuracy: 0.8029\n",
            "Epoch 38/50\n",
            "96/96 [==============================] - 0s 3ms/step - loss: 0.3635 - accuracy: 0.8454 - val_loss: 0.3779 - val_accuracy: 0.8102\n",
            "Epoch 39/50\n",
            "96/96 [==============================] - 0s 3ms/step - loss: 0.3603 - accuracy: 0.8380 - val_loss: 0.3688 - val_accuracy: 0.8175\n",
            "Epoch 40/50\n",
            "96/96 [==============================] - 0s 3ms/step - loss: 0.3540 - accuracy: 0.8391 - val_loss: 0.3710 - val_accuracy: 0.8443\n",
            "Epoch 41/50\n",
            "96/96 [==============================] - 0s 3ms/step - loss: 0.3507 - accuracy: 0.8359 - val_loss: 0.3550 - val_accuracy: 0.8443\n",
            "Epoch 42/50\n",
            "96/96 [==============================] - 0s 3ms/step - loss: 0.3473 - accuracy: 0.8443 - val_loss: 0.3608 - val_accuracy: 0.8029\n",
            "Epoch 43/50\n",
            "96/96 [==============================] - 0s 3ms/step - loss: 0.3375 - accuracy: 0.8391 - val_loss: 0.3576 - val_accuracy: 0.8054\n",
            "Epoch 44/50\n",
            "96/96 [==============================] - 0s 3ms/step - loss: 0.3372 - accuracy: 0.8443 - val_loss: 0.3465 - val_accuracy: 0.8200\n",
            "Epoch 45/50\n",
            "96/96 [==============================] - 0s 3ms/step - loss: 0.3293 - accuracy: 0.8537 - val_loss: 0.3428 - val_accuracy: 0.8200\n",
            "Epoch 46/50\n",
            "96/96 [==============================] - 0s 3ms/step - loss: 0.3247 - accuracy: 0.8443 - val_loss: 0.3531 - val_accuracy: 0.8224\n",
            "Epoch 47/50\n",
            "96/96 [==============================] - 0s 3ms/step - loss: 0.3170 - accuracy: 0.8589 - val_loss: 0.3454 - val_accuracy: 0.8297\n",
            "Epoch 48/50\n",
            "96/96 [==============================] - 0s 3ms/step - loss: 0.3260 - accuracy: 0.8537 - val_loss: 0.3251 - val_accuracy: 0.8613\n",
            "Epoch 49/50\n",
            "96/96 [==============================] - 0s 3ms/step - loss: 0.3089 - accuracy: 0.8683 - val_loss: 0.3333 - val_accuracy: 0.8151\n",
            "Epoch 50/50\n",
            "96/96 [==============================] - 0s 3ms/step - loss: 0.3066 - accuracy: 0.8548 - val_loss: 0.3227 - val_accuracy: 0.8224\n"
          ]
        }
      ]
    },
    {
      "cell_type": "markdown",
      "source": [
        "# Review Training and Validation Loss"
      ],
      "metadata": {
        "id": "_zczkdiMuOnI"
      }
    },
    {
      "cell_type": "code",
      "source": [
        "epochs_nums = range(1, num_epochs+1)\n",
        "training_loss = history.history[\"loss\"]\n",
        "validation_loss = history.history['val_loss']\n",
        "\n",
        "plt.plot(epochs_nums, training_loss)\n",
        "plt.plot(epochs_nums, validation_loss)\n",
        "plt.xlabel('Epoch')\n",
        "plt.ylabel('Loss')\n",
        "plt.legend(['training', 'validation'], loc ='upper right')\n",
        "plt.show()\n"
      ],
      "metadata": {
        "id": "-PQ0zqdKjsVz",
        "colab": {
          "base_uri": "https://localhost:8080/",
          "height": 449
        },
        "outputId": "a17eac75-18ed-416f-9498-9406ab036e31"
      },
      "execution_count": 11,
      "outputs": [
        {
          "output_type": "display_data",
          "data": {
            "text/plain": [
              "<Figure size 640x480 with 1 Axes>"
            ],
            "image/png": "[encoded data removed]"
          },
          "metadata": {}
        }
      ]
    },
    {
      "cell_type": "markdown",
      "source": [
        "# View the learned weights and biases"
      ],
      "metadata": {
        "id": "fIzCZmGWvLFv"
      }
    },
    {
      "cell_type": "code",
      "source": [
        "for layer in model.layers:\n",
        "  weights = layer.get_weights()[0]\n",
        "  biases = layer.get_weights()[1]\n",
        "  print('------------\\nWeights:\\n',weights,'\\nBiases:\\n', biases)"
      ],
      "metadata": {
        "colab": {
          "base_uri": "https://localhost:8080/"
        },
        "id": "Mn8j5RoevKsB",
        "outputId": "9edac748-cdbe-40e1-a7e6-519c8028a7c0"
      },
      "execution_count": 13,
      "outputs": [
        {
          "output_type": "stream",
          "name": "stdout",
          "text": [
            "------------\n",
            "Weights:\n",
            " [[ 0.17193568  0.42648357 -0.09814101  0.4351917   0.44338676 -0.45717487\n",
            "  -0.55364794 -0.50698113 -0.32003626 -0.14330834]\n",
            " [ 0.17651471  0.10139237  0.4599142   0.68736213 -0.37360936 -0.17658776\n",
            "   0.485263   -0.04149026  0.62618613  0.6310867 ]\n",
            " [-0.5765198  -0.56747097  0.03571367  0.2536862   0.4409513   0.23177165\n",
            "  -0.29495534  0.4256704   0.07074273 -0.33329913]\n",
            " [-0.07078379  0.00165142 -0.27581632 -0.65434784  0.27753836 -0.34545773\n",
            "  -0.588046   -0.07544267 -0.35026973 -0.30300277]] \n",
            "Biases:\n",
            " [-0.08359233 -0.32167992  0.         -0.29764476  0.24597967  0.\n",
            "  0.          0.          0.          0.        ]\n",
            "------------\n",
            "Weights:\n",
            " [[-0.32237098 -0.21817145  0.09534131 -0.27349982 -0.30168906  0.05074972\n",
            "   0.35429782 -0.44508833  0.34828556  0.5267856 ]\n",
            " [ 0.3309376  -0.5317204  -0.30063468 -0.24308774  0.6633285  -0.16148561\n",
            "  -0.1555786  -0.5091993   0.27535027 -0.1595208 ]\n",
            " [-0.53145874  0.01360416 -0.21855512 -0.08660427 -0.02668589 -0.163347\n",
            "   0.43237567 -0.23074988  0.2432195   0.22025299]\n",
            " [ 0.6656036  -0.5066499   0.08390317 -0.5249698   0.72751755  0.4356107\n",
            "  -0.38581288 -0.23552126  0.09350401 -0.4138341 ]\n",
            " [ 0.10938479 -0.45580614  0.46299285 -0.515424   -0.11943567 -0.22971326\n",
            "   0.02321804  0.09418273 -0.4347552  -0.05103651]\n",
            " [ 0.41925466  0.20577389  0.45029968 -0.03256691 -0.5027405   0.06036854\n",
            "   0.13934362 -0.49438605 -0.5432155  -0.10831246]\n",
            " [-0.5062882   0.06329513 -0.36688355 -0.14524695  0.2617126   0.25988686\n",
            "   0.19835484 -0.25339958  0.09123647  0.44011074]\n",
            " [ 0.00169748  0.52395606 -0.40539372 -0.06324404 -0.18349439 -0.1883277\n",
            "   0.30426198 -0.45823988  0.16583002  0.14951819]\n",
            " [-0.16410834 -0.3930301   0.2979169  -0.24520314 -0.06653029 -0.34462154\n",
            "   0.36436754 -0.02098197 -0.06480104 -0.11332896]\n",
            " [ 0.04149199 -0.04327285 -0.1332789   0.13834333 -0.17717084  0.33849424\n",
            "  -0.26894078 -0.361632    0.09904456  0.33235562]] \n",
            "Biases:\n",
            " [-0.15225028  0.          0.23409441  0.         -0.21053602  0.\n",
            " -0.03843917 -0.03441399  0.          0.        ]\n",
            "------------\n",
            "Weights:\n",
            " [[ 0.47157896  0.1865274   0.6242367 ]\n",
            " [ 0.4752164   0.59830153 -0.04935932]\n",
            " [ 0.2827832   0.91555274 -0.44934723]\n",
            " [ 0.04727536 -0.32562026  0.12965918]\n",
            " [-0.12537278 -1.0155791   0.58113456]\n",
            " [ 0.454252    0.6386448   0.49883592]\n",
            " [-0.26161987 -0.4561764   0.36088306]\n",
            " [ 0.63973105 -0.46376374  0.4085836 ]\n",
            " [-0.00557899  0.24636239 -0.64403075]\n",
            " [-0.6296522   0.57102215  0.21471584]] \n",
            "Biases:\n",
            " [ 0.6512599  -0.36727804 -0.51595324]\n"
          ]
        }
      ]
    },
    {
      "cell_type": "markdown",
      "source": [
        "# Evaluate Model Performance"
      ],
      "metadata": {
        "id": "i34ct5xGvnWl"
      }
    },
    {
      "cell_type": "code",
      "source": [
        "# Tensorflow doesn't have a built-in confusion matrix metric, so we'll use SciKit-Learn\n",
        "\n",
        "from sklearn.metrics import confusion_matrix\n",
        "\n",
        "class_probabilities = model.predict(X_test)\n",
        "predictions = np.argmax(class_probabilities, axis=1)\n",
        "true_labels = np.argmax(y_test, axis=1)\n",
        "\n",
        "# Plot the Confusion Matrix\n",
        "cm = confusion_matrix(true_labels, predictions)\n",
        "plt.imshow(cm, interpolation=\"nearest\", cmap=plt.cm.Blues)\n",
        "plt.colorbar()\n",
        "\n",
        "tick_marks = np.arange(len(penguin_classes))\n",
        "plt.xticks(tick_marks, penguin_classes, rotation=0)\n",
        "plt.yticks(tick_marks, penguin_classes)\n",
        "plt.xlabel(\"Predicted Species\")\n",
        "plt.ylabel(\"Actual Species\")\n",
        "plt.show()\n"
      ],
      "metadata": {
        "colab": {
          "base_uri": "https://localhost:8080/",
          "height": 466
        },
        "id": "DE5CeibqvKol",
        "outputId": "ac5f3589-85e1-47fe-e9ba-25a35ab857e8"
      },
      "execution_count": 19,
      "outputs": [
        {
          "output_type": "stream",
          "name": "stdout",
          "text": [
            "13/13 [==============================] - 0s 3ms/step\n"
          ]
        },
        {
          "output_type": "display_data",
          "data": {
            "text/plain": [
              "<Figure size 640x480 with 2 Axes>"
            ],
            "image/png": "[encoded data removed]"
          },
          "metadata": {}
        }
      ]
    },
    {
      "cell_type": "markdown",
      "source": [
        "# Save the trained model"
      ],
      "metadata": {
        "id": "BmnxNmcavKCK"
      }
    },
    {
      "cell_type": "code",
      "source": [
        "modelFileName = 'models/penguin-classifier.h5'\n",
        "model.save(modelFileName)\n",
        "del model # deletes the existing model variable\n",
        "\n",
        "print('model saved as', modelFileName)"
      ],
      "metadata": {
        "colab": {
          "base_uri": "https://localhost:8080/"
        },
        "id": "6mSXBrYzvKmP",
        "outputId": "6820f68f-6d3e-46e5-d739-e78dfb55a74a"
      },
      "execution_count": 20,
      "outputs": [
        {
          "output_type": "stream",
          "name": "stdout",
          "text": [
            "model saved as models/penguin-classifier.h5\n"
          ]
        }
      ]
    },
    {
      "cell_type": "markdown",
      "source": [
        "# Use The Trained Model"
      ],
      "metadata": {
        "id": "Nw60uL1n2nSL"
      }
    },
    {
      "cell_type": "code",
      "source": [
        "# Load the saved model\n",
        "model = models.load_model(modelFileName)\n",
        "\n",
        "# Create a new array of features\n",
        "X_new = np.array([[50.4,15.3,20,50]])\n",
        "print('New Sample: {X_new}')\n",
        "\n",
        "# Use the model to predict the class\n",
        "class_probabilities = model.predict(X_new)\n",
        "predictions = np.argmax(class_probabilities, axis=1)\n",
        "\n",
        "print(penguin_classes[predictions[0]])"
      ],
      "metadata": {
        "colab": {
          "base_uri": "https://localhost:8080/"
        },
        "id": "1i81pBZDvKjE",
        "outputId": "d96cb372-de17-49a3-b9b6-834ebb89dfeb"
      },
      "execution_count": 21,
      "outputs": [
        {
          "output_type": "stream",
          "name": "stdout",
          "text": [
            "New Sample: {X_new}\n",
            "1/1 [==============================] - 0s 62ms/step\n",
            "Gentoo\n"
          ]
        }
      ]
    },
    {
      "cell_type": "code",
      "source": [],
      "metadata": {
        "id": "NX7ZwARkvKfv"
      },
      "execution_count": null,
      "outputs": []
    },
    {
      "cell_type": "code",
      "source": [],
      "metadata": {
        "id": "t1t_wo-hvKZ3"
      },
      "execution_count": null,
      "outputs": []
    },
    {
      "cell_type": "code",
      "source": [],
      "metadata": {
        "id": "Yq_IMZEyvKT1"
      },
      "execution_count": null,
      "outputs": []
    },
    {
      "cell_type": "code",
      "source": [],
      "metadata": {
        "id": "IV1k3N9XjsHM"
      },
      "execution_count": 7,
      "outputs": []
    }
  ]
}